{
 "cells": [
  {
   "cell_type": "code",
   "execution_count": 2,
   "metadata": {},
   "outputs": [],
   "source": [
    "import pandas as pd\n",
    "import numpy as np\n",
    "import re\n",
    "import math\n",
    "import requests\n",
    "from bs4 import BeautifulSoup"
   ]
  },
  {
   "cell_type": "code",
   "execution_count": 40,
   "metadata": {},
   "outputs": [
    {
     "name": "stderr",
     "output_type": "stream",
     "text": [
      "[nltk_data] Downloading package punkt to\n",
      "[nltk_data]     /Users/danielstephensen/nltk_data...\n",
      "[nltk_data]   Package punkt is already up-to-date!\n",
      "[nltk_data] Downloading package stopwords to\n",
      "[nltk_data]     /Users/danielstephensen/nltk_data...\n",
      "[nltk_data]   Package stopwords is already up-to-date!\n"
     ]
    }
   ],
   "source": [
    "import nltk\n",
    "from nltk import word_tokenize\n",
    "from nltk.corpus import stopwords\n",
    "from nltk.stem import porter\n",
    "nltk.download('punkt')\n",
    "nltk.download('stopwords')\n",
    "import matplotlib.pyplot as plt\n",
    "import psycopg2 as pc\n",
    "from IPython import display\n"
   ]
  },
  {
   "cell_type": "markdown",
   "metadata": {},
   "source": [
    "Before going further and executing the code, make sure to change the database name, username and password for your SQL database and the path to the path to the 'SQLtables' repository with the csv files in it, so it adjusted to your computer."
   ]
  },
  {
   "cell_type": "code",
   "execution_count": 5,
   "metadata": {},
   "outputs": [],
   "source": [
    "SQL_database_login = \"dbname=postgres user=postgres password=***\"\n",
    "SQLtables_path = \"/Users/danielstephensen/Desktop/DataScienceGit/SQLtables/\""
   ]
  },
  {
   "cell_type": "markdown",
   "metadata": {},
   "source": [
    "## Function Definitions"
   ]
  },
  {
   "cell_type": "code",
   "execution_count": 10,
   "metadata": {},
   "outputs": [],
   "source": [
    "#cleantext cleans the input string with the following functions: Characters are set to lowercase, \n",
    "#urls are substituted with <URL>, dates are substitured with <DATE>, emails are substitured with <EMAIL>\n",
    "#numbers are substitured with <NUM>, newlines and non-letter characters are removed.\n",
    "def cleantext(text):\n",
    "    text = str(text)\n",
    "    text = text.lower()\n",
    "    text = re.sub(r'<|>', \"\", text)\n",
    "    text = re.sub(r'(https?:\\/\\/)?w{0,3}\\.?[a-z]+\\.[a-z]\\w*[\\w\\/-]*', \"<URL>\", text)\n",
    "    text = re.sub(r'(jan\\.?(uary)?|feb\\.?(uary)?|mar\\.?(ch)?|apr\\.?(il)?|may|jun\\.(e)?|jul\\.(y)?|aug\\.?(ust)?|sep\\.?(tember)?|oct\\.?(ober)?|nov\\.?(ember)?|dec\\.?(ember)?|monday|tuesday|wednesday|thursday|friday|saturday|sunday) (the )?\\d{1,2}((th)?,?( \\d{4})?)?', \"<DATE>\", text)\n",
    "    text = re.sub(r'\\w+@\\w+\\.[a-zA-Z]{2,3}', \"<EMAIL>\", text)\n",
    "    text = re.sub(r'[0-9]+', \"<NUM>\", text)\n",
    "    text = re.sub(r'(\\\\n)+|\\s{2,}|(\\\\t+)', \" \", text)\n",
    "    text = re.sub(r'\\.|,|\\\\|-|\\?|\\(|\\)|\\||&|\"|”|“|:|!|\\+|-|–|—|\\/|\\$|%|€|#|;|\\[|\\]|©|®|…|=', \"\", text)\n",
    "    return text\n",
    "\n",
    "#cleanMetaKeywords cleans the input string with the following functions: \n",
    "#Characters are set to lowercase, newlines and non-letter characters are removed.\n",
    "def cleanMetaKeywords(text):\n",
    "    text = str(text)\n",
    "    text = text.lower()\n",
    "    text = re.sub(r'(\\\\n)+|\\s{2,}|(\\\\t+)', \" \", text)\n",
    "    text = re.sub(r'\\.|\\\\|-|\\?|\\(|\\)|\\||&|\"|”|“|:|!|\\+|-|\\'|–|—|\\/|\\$|%|€|#|;|\\[|\\]|©|®|…|=|<|>', \"\", text)\n",
    "    return text\n",
    "\n",
    "def tokenize(text):\n",
    "    return word_tokenize(text)\n",
    "\n",
    "def stopword(word_list):\n",
    "    stop_words = stopwords.words('english')\n",
    "    \n",
    "    return [word for word in word_list if word not in stop_words]\n",
    "\n",
    "def stemming(word_list):\n",
    "    stemmer = porter.PorterStemmer()\n",
    "\n",
    "    return [stemmer.stem(word) for word in word_list]\n"
   ]
  },
  {
   "cell_type": "markdown",
   "metadata": {},
   "source": [
    "## Task 1"
   ]
  },
  {
   "cell_type": "code",
   "execution_count": 7,
   "metadata": {
    "tags": []
   },
   "outputs": [
    {
     "name": "stderr",
     "output_type": "stream",
     "text": [
      "/opt/anaconda3/lib/python3.8/site-packages/IPython/core/interactiveshell.py:3071: DtypeWarning: Columns (0,1) have mixed types.Specify dtype option on import or set low_memory=False.\n",
      "  has_raised = await self.run_ast_nodes(code_ast.body, cell_name,\n"
     ]
    }
   ],
   "source": [
    "#Reading the data from 1mio-raw.csv\n",
    "dataTotal = pd.read_csv('1mio-raw.csv/1mio-raw.csv')\n",
    "\n",
    "#We will only analyse a smaller part of the data set\n",
    "data = dataTotal[:1000]\n"
   ]
  },
  {
   "cell_type": "code",
   "execution_count": 11,
   "metadata": {
    "scrolled": true,
    "tags": []
   },
   "outputs": [],
   "source": [
    "#Cleaning the content\n",
    "cleaned_content = [cleantext(article_content) for article_content in data['content']]\n",
    "\n",
    "#Tokenizing the cleaned data\n",
    "tokens = [tokenize(clean_text) for clean_text in cleaned_content]\n",
    "\n",
    "#Removing stopwords\n",
    "stopwords = [stopword(token_list) for token_list in tokens]\n",
    "\n",
    "#Stemming the data (this is used for the 'keywords' attribute)\n",
    "stemmed_data = [stemming(stopword_list) for stopword_list in stopwords]\n",
    "\n",
    "#Cleaning meta keywords\n",
    "clean_meta_keywords = [cleanMetaKeywords(metakeyword) for metakeyword in data[\"meta_keywords\"]]\n"
   ]
  },
  {
   "cell_type": "code",
   "execution_count": 12,
   "metadata": {},
   "outputs": [
    {
     "name": "stderr",
     "output_type": "stream",
     "text": [
      "<ipython-input-12-949903fe36fc>:2: SettingWithCopyWarning: \n",
      "A value is trying to be set on a copy of a slice from a DataFrame.\n",
      "Try using .loc[row_indexer,col_indexer] = value instead\n",
      "\n",
      "See the caveats in the documentation: https://pandas.pydata.org/pandas-docs/stable/user_guide/indexing.html#returning-a-view-versus-a-copy\n",
      "  data[\"tags\"] = [[tag.strip for tag in (str(i)).split(\",\")] for i in data[\"tags\"]]\n",
      "<ipython-input-12-949903fe36fc>:3: SettingWithCopyWarning: \n",
      "A value is trying to be set on a copy of a slice from a DataFrame.\n",
      "Try using .loc[row_indexer,col_indexer] = value instead\n",
      "\n",
      "See the caveats in the documentation: https://pandas.pydata.org/pandas-docs/stable/user_guide/indexing.html#returning-a-view-versus-a-copy\n",
      "  data[\"authors\"] = [[author.strip for author in (str(i)).split(\",\")] for i in data[\"authors\"]]\n",
      "<ipython-input-12-949903fe36fc>:4: SettingWithCopyWarning: \n",
      "A value is trying to be set on a copy of a slice from a DataFrame.\n",
      "Try using .loc[row_indexer,col_indexer] = value instead\n",
      "\n",
      "See the caveats in the documentation: https://pandas.pydata.org/pandas-docs/stable/user_guide/indexing.html#returning-a-view-versus-a-copy\n",
      "  data[\"meta_keywords\"] = [[meta_keyword.strip for meta_keyword in (str(i)).split(\",\")] for i in clean_meta_keywords]\n",
      "<ipython-input-12-949903fe36fc>:5: SettingWithCopyWarning: \n",
      "A value is trying to be set on a copy of a slice from a DataFrame.\n",
      "Try using .loc[row_indexer,col_indexer] = value instead\n",
      "\n",
      "See the caveats in the documentation: https://pandas.pydata.org/pandas-docs/stable/user_guide/indexing.html#returning-a-view-versus-a-copy\n",
      "  data[\"keywords\"] = stemmed_data\n"
     ]
    }
   ],
   "source": [
    "#Making sure that each element of 'tags', 'authors' and 'meta_keywords' are stripped stings and converting them to arrays\n",
    "data[\"tags\"] = [[tag.strip for tag in (str(i)).split(\",\")] for i in data[\"tags\"]]\n",
    "data[\"authors\"] = [[author.strip for author in (str(i)).split(\",\")] for i in data[\"authors\"]]\n",
    "data[\"meta_keywords\"] = [[meta_keyword.strip for meta_keyword in (str(i)).split(\",\")] for i in clean_meta_keywords]\n",
    "data[\"keywords\"] = stemmed_data\n",
    "data[\"content\"] = cleaned_content\n"
   ]
  },
  {
   "cell_type": "code",
   "execution_count": 13,
   "metadata": {},
   "outputs": [],
   "source": [
    "#Relation tables\n",
    "article_tags = data[['id','tags']].explode('tags')\n",
    "owns = data[['id', 'domain']]\n",
    "article_authors = data[['id','authors']].explode('authors')\n",
    "article_keywords = data[['id','keywords']].explode('keywords')\n",
    "article_meta_keywords  = data[['id','meta_keywords']].explode('meta_keywords')\n",
    "article_types = data[['id','type']]\n"
   ]
  },
  {
   "cell_type": "code",
   "execution_count": 23,
   "metadata": {},
   "outputs": [],
   "source": [
    "#Entity tables\n",
    "articles = data[['id','content','type','url','scraped_at','inserted_at','updated_at','meta_description','title']]\n",
    "keywords = pd.DataFrame(set(data[['keywords']].explode('keywords')))\n",
    "meta_keywords = pd.DataFrame(set(data[['meta_keywords']].explode('meta_keywords')))\n",
    "tags = pd.DataFrame(set(data[['tags']].explode('tags')))\n",
    "domains = pd.DataFrame(set(data['domain']))\n",
    "authors = pd.DataFrame(set(data[['authors']].explode('authors')))\n",
    "types =  pd.DataFrame(set(data['type']))"
   ]
  },
  {
   "cell_type": "code",
   "execution_count": 19,
   "metadata": {},
   "outputs": [],
   "source": [
    "#Entities to CSV\n",
    "articles.to_csv(\"SQLtables/articles.csv\",index=False,header=False)\n",
    "keywords.to_csv(\"SQLtables/keywords.csv\",index=False,header=False)\n",
    "meta_keywords.to_csv(\"SQLtables/meta_keywords.csv\",index=False,header=False)\n",
    "tags.to_csv(\"SQLtables/tags.csv\",index=False,header=False)\n",
    "authors.to_csv(\"SQLtables/authors.csv\",index=False,header=False)\n",
    "domains.to_csv(\"SQLtables/domains.csv\",index=False,header=False)\n",
    "types.to_csv(\"SQLtables/types.csv\",index=False,header=False)\n",
    "\n",
    "#Relations to CSV\n",
    "owns.to_csv(\"SQLtables/owns.csv\",index=False,header=False)\n",
    "article_authors.to_csv(\"SQLtables/article_authors.csv\",index=False,header=False)\n",
    "article_tags.to_csv(\"SQLtables/article_tags.csv\",index=False,header=False)\n",
    "article_keywords.to_csv(\"SQLtables/article_keywords.csv\",index=False,header=False)\n",
    "article_meta_keywords.to_csv(\"SQLtables/article_meta_keywords.csv\",index=False,header=False)\n",
    "article_types.to_csv(\"SQLtables/article_types.csv\",index=False,header=False)"
   ]
  },
  {
   "cell_type": "code",
   "execution_count": 20,
   "metadata": {},
   "outputs": [],
   "source": [
    "#Setting up a connection with the SQL server. Make sure that you write your own dbname, user and password as input\n",
    "conn = pc.connect(SQL_database_login)\n",
    "cur = conn.cursor()"
   ]
  },
  {
   "cell_type": "code",
   "execution_count": 21,
   "metadata": {},
   "outputs": [],
   "source": [
    "#Creating tables if they are not on the SQL server already\n",
    "cur.execute(\"BEGIN TRANSACTION;\")\n",
    "cur.execute(\"CREATE TABLE IF NOT EXISTS public.article(id integer, content text COLLATE pg_catalog.\\\"default\\\", type text COLLATE pg_catalog.\\\"default\\\", url text COLLATE pg_catalog.\\\"default\\\", scraped_at date, inserted_at date, updated_at date, meta_description text COLLATE pg_catalog.\\\"default\\\", title text COLLATE pg_catalog.\\\"default\\\") WITH (OIDS = FALSE) TABLESPACE pg_default;\")\n",
    "cur.execute(\"CREATE TABLE IF NOT EXISTS public.article_keyword(id integer, keyword text COLLATE pg_catalog.\\\"default\\\") WITH (OIDS = FALSE) TABLESPACE pg_default;\")\n",
    "cur.execute(\"CREATE TABLE IF NOT EXISTS public.article_meta_keywords(id integer, meta_keyword text COLLATE pg_catalog.\\\"default\\\") WITH (OIDS = FALSE) TABLESPACE pg_default;\")\n",
    "cur.execute(\"CREATE TABLE IF NOT EXISTS public.article_tags(id integer,tag text COLLATE pg_catalog.\\\"default\\\") WITH (OIDS = FALSE) TABLESPACE pg_default;\")\n",
    "cur.execute(\"CREATE TABLE IF NOT EXISTS public.authors(name text COLLATE pg_catalog.\\\"default\\\") WITH (OIDS = FALSE) TABLESPACE pg_default;\")\n",
    "cur.execute(\"CREATE TABLE IF NOT EXISTS public.authors_of(article_id integer, author_name text COLLATE pg_catalog.\\\"default\\\") WITH (OIDS = FALSE) TABLESPACE pg_default;\")\n",
    "cur.execute(\"CREATE TABLE IF NOT EXISTS public.domain(name text COLLATE pg_catalog.\\\"default\\\") WITH (OIDS = FALSE) TABLESPACE pg_default;\")\n",
    "cur.execute(\"CREATE TABLE IF NOT EXISTS public.keywords(keyword text COLLATE pg_catalog.\\\"default\\\") WITH (OIDS = FALSE) TABLESPACE pg_default;\")\n",
    "cur.execute(\"CREATE TABLE IF NOT EXISTS public.meta_keywords(meta_keyword text COLLATE pg_catalog.\\\"default\\\") WITH (OIDS = FALSE) TABLESPACE pg_default;\")\n",
    "cur.execute(\"CREATE TABLE IF NOT EXISTS public.owns(article_id integer, domain_name text COLLATE pg_catalog.\\\"default\\\") WITH (OIDS = FALSE) TABLESPACE pg_default;\")\n",
    "cur.execute(\"CREATE TABLE IF NOT EXISTS public.tags(tag text COLLATE pg_catalog.\\\"default\\\") WITH (OIDS = FALSE) TABLESPACE pg_default;\")\n",
    "cur.execute(\"COMMIT TRANSACTION;\")"
   ]
  },
  {
   "cell_type": "code",
   "execution_count": 22,
   "metadata": {},
   "outputs": [
    {
     "ename": "InsufficientPrivilege",
     "evalue": "could not open file \"/Users/danielstephensen/Desktop/DataScienceGit/SQLtables/articles_table.csv\" for reading: Permission denied\nHINT:  COPY FROM instructs the PostgreSQL server process to read a file. You may want a client-side facility such as psql's \\copy.\n",
     "output_type": "error",
     "traceback": [
      "\u001b[0;31m---------------------------------------------------------------------------\u001b[0m",
      "\u001b[0;31mInsufficientPrivilege\u001b[0m                     Traceback (most recent call last)",
      "\u001b[0;32m<ipython-input-22-4ec92fbc0655>\u001b[0m in \u001b[0;36m<module>\u001b[0;34m\u001b[0m\n\u001b[1;32m      2\u001b[0m \u001b[0;31m#(first all current tuples in the tables are deleted and then the new data is copied into the tables)\u001b[0m\u001b[0;34m\u001b[0m\u001b[0;34m\u001b[0m\u001b[0;34m\u001b[0m\u001b[0m\n\u001b[1;32m      3\u001b[0m \u001b[0mcur\u001b[0m\u001b[0;34m.\u001b[0m\u001b[0mexecute\u001b[0m\u001b[0;34m(\u001b[0m\u001b[0;34m\"BEGIN TRANSACTION;\"\u001b[0m\u001b[0;34m)\u001b[0m\u001b[0;34m\u001b[0m\u001b[0;34m\u001b[0m\u001b[0m\n\u001b[0;32m----> 4\u001b[0;31m \u001b[0mcur\u001b[0m\u001b[0;34m.\u001b[0m\u001b[0mexecute\u001b[0m\u001b[0;34m(\u001b[0m\u001b[0;34m\"delete from article *; copy article from '\"\u001b[0m \u001b[0;34m+\u001b[0m \u001b[0mSQLtables_path\u001b[0m \u001b[0;34m+\u001b[0m \u001b[0;34m\"articles_table.csv' with (format csv);\"\u001b[0m\u001b[0;34m)\u001b[0m\u001b[0;34m\u001b[0m\u001b[0;34m\u001b[0m\u001b[0m\n\u001b[0m\u001b[1;32m      5\u001b[0m \u001b[0mcur\u001b[0m\u001b[0;34m.\u001b[0m\u001b[0mexecute\u001b[0m\u001b[0;34m(\u001b[0m\u001b[0;34m\"delete from authors *; copy article from '\"\u001b[0m \u001b[0;34m+\u001b[0m \u001b[0mSQLtables_path\u001b[0m \u001b[0;34m+\u001b[0m \u001b[0;34m\"authors_table.csv' with (format csv);\"\u001b[0m\u001b[0;34m)\u001b[0m\u001b[0;34m\u001b[0m\u001b[0;34m\u001b[0m\u001b[0m\n\u001b[1;32m      6\u001b[0m \u001b[0mcur\u001b[0m\u001b[0;34m.\u001b[0m\u001b[0mexecute\u001b[0m\u001b[0;34m(\u001b[0m\u001b[0;34m\"delete from authors_of *; copy article from '\"\u001b[0m \u001b[0;34m+\u001b[0m \u001b[0mSQLtables_path\u001b[0m \u001b[0;34m+\u001b[0m \u001b[0;34m\"authors_of_article.csv' with (format csv);\"\u001b[0m\u001b[0;34m)\u001b[0m\u001b[0;34m\u001b[0m\u001b[0;34m\u001b[0m\u001b[0m\n",
      "\u001b[0;31mInsufficientPrivilege\u001b[0m: could not open file \"/Users/danielstephensen/Desktop/DataScienceGit/SQLtables/articles_table.csv\" for reading: Permission denied\nHINT:  COPY FROM instructs the PostgreSQL server process to read a file. You may want a client-side facility such as psql's \\copy.\n"
     ]
    }
   ],
   "source": [
    "#Setting up the SQL tables from the csv files created above \n",
    "#(first all current tuples in the tables are deleted and then the new data is copied into the tables)\n",
    "cur.execute(\"BEGIN TRANSACTION;\")\n",
    "cur.execute(\"delete from article *; copy article from '\" + SQLtables_path + \"articles.csv' with (format csv);\")\n",
    "cur.execute(\"delete from authors *; copy authors from '\" + SQLtables_path + \"authors.csv' with (format csv);\")\n",
    "cur.execute(\"delete from authors_of *; copy authors_of from '\" + SQLtables_path + \"article_authors.csv' with (format csv);\")\n",
    "cur.execute(\"delete from owns *; copy owns from '\" + SQLtables_path + \"owns.csv' with (format csv);\")\n",
    "cur.execute(\"delete from tags *; copy tags from '\" + SQLtables_path + \"tags.csv' with (format csv);\")\n",
    "cur.execute(\"delete from keywords *; copy keywords from '\" + SQLtables_path + \"keywords.csv' with (format csv);\")\n",
    "cur.execute(\"delete from meta_keywords *; copy meta_keywords from '\" + SQLtables_path + \"meta_keywords.csv' with (format csv);\")\n",
    "cur.execute(\"delete from domain *; copy domain from '\" + SQLtables_path + \"domains.csv' with (format csv);\")\n",
    "cur.execute(\"delete from article_tags *; copy article_tags from '\" + SQLtables_path + \"article_tags.csv' with (format csv);\")\n",
    "cur.execute(\"delete from article_keyword *; copy article_keyword from '\" + SQLtables_path + \"article_keywords.csv' with (format csv);\")\n",
    "cur.execute(\"delete from article_meta_keywords *; copy article_meta_keywords from '\" + SQLtables_path + \"article_meta_keywords.csv' with (format csv);\")\n",
    "cur.execute(\"delete from types *; copy types from '\" + SQLtables_path + \"types.csv' with (format csv);\")\n",
    "cur.execute(\"delete from article_types *; copy article_types from '\" + SQLtables_path + \"article_types.csv' with (format csv);\")\n",
    "cur.execute(\"COMMIT TRANSACTION;\")\n",
    "cur.fetchall()"
   ]
  },
  {
   "cell_type": "code",
   "execution_count": 39,
   "metadata": {},
   "outputs": [
    {
     "data": {
      "image/png": "[encoded data removed]",
      "text/plain": [
       "<IPython.core.display.Image object>"
      ]
     },
     "execution_count": 39,
     "metadata": {},
     "output_type": "execute_result"
    }
   ],
   "source": [
    "display.Image(\"diagram.png\")"
   ]
  },
  {
   "cell_type": "markdown",
   "metadata": {},
   "source": [
    "Choice of Schema\n",
    "We have designed our database around the articles, using article_ID as the main primary key, which other relations refeer to.\n",
    "\n",
    "the table 'article' has the attributes which uniquely belonging to the given article. Attributes such as information about the time it was scraped, the URL, the type etc. all uniquely belongs to an article.\n",
    "\n",
    "We chose to create functional dependencies for the attributes 'tags', 'meta_keywords' and 'keywords' since each were consisting of up to a list of elements, making it hard to explore in SQL.\n",
    "\n",
    "Thus the relation tags consist of an unique row for each tag of each article. The same is true for meta_keywords and keywords.\n",
    "\n",
    "The relation Domain is one-to-many relation, since each article has one domain, but one domain can have many articles. Thus it makes sence to make a relation for domain.\n",
    "\n",
    "The relation Authors is a many-to-many relationship since each author can write many articles and any article can have multiple authors.\n",
    "\n",
    "Each relation thus binds our tables 'Authors', 'Domain', 'Tags', 'Meta_keywords' and 'keywords'. The tables right now only consist of a distinct list of author name, domain name, tag, meta_keyword and keyword. But this design enables easy scaling, if we want to add more information each table. For example the age of each author would easily be added to the 'authors' table.\n"
   ]
  },
  {
   "cell_type": "markdown",
   "metadata": {},
   "source": [
    "## Task 2"
   ]
  },
  {
   "cell_type": "code",
   "execution_count": 26,
   "metadata": {
    "tags": []
   },
   "outputs": [
    {
     "ename": "InFailedSqlTransaction",
     "evalue": "current transaction is aborted, commands ignored until end of transaction block\n",
     "output_type": "error",
     "traceback": [
      "\u001b[0;31m---------------------------------------------------------------------------\u001b[0m",
      "\u001b[0;31mInFailedSqlTransaction\u001b[0m                    Traceback (most recent call last)",
      "\u001b[0;32m<ipython-input-26-d495b0e4b0f5>\u001b[0m in \u001b[0;36m<module>\u001b[0;34m\u001b[0m\n\u001b[1;32m      1\u001b[0m \u001b[0;31m#Milestone 2 Task 3\u001b[0m\u001b[0;34m\u001b[0m\u001b[0;34m\u001b[0m\u001b[0;34m\u001b[0m\u001b[0m\n\u001b[1;32m      2\u001b[0m \u001b[0;31m#1 [sql] List the domains of news articles of reliable type and scraped at or after January 15, 2018. NOTE: Do not include duplicate domains in your answer.\u001b[0m\u001b[0;34m\u001b[0m\u001b[0;34m\u001b[0m\u001b[0;34m\u001b[0m\u001b[0m\n\u001b[0;32m----> 3\u001b[0;31m \u001b[0mcur\u001b[0m\u001b[0;34m.\u001b[0m\u001b[0mexecute\u001b[0m\u001b[0;34m(\u001b[0m\u001b[0;34m\"select distinct domain_name from owns where article_id in (select id from article a where type = 'reliable' and a.scraped_at > '2018-01-24')\"\u001b[0m\u001b[0;34m)\u001b[0m\u001b[0;34m\u001b[0m\u001b[0;34m\u001b[0m\u001b[0m\n\u001b[0m\u001b[1;32m      4\u001b[0m \u001b[0mprint\u001b[0m\u001b[0;34m(\u001b[0m\u001b[0mcur\u001b[0m\u001b[0;34m.\u001b[0m\u001b[0mfetchall\u001b[0m\u001b[0;34m(\u001b[0m\u001b[0;34m)\u001b[0m\u001b[0;34m)\u001b[0m\u001b[0;34m\u001b[0m\u001b[0;34m\u001b[0m\u001b[0m\n\u001b[1;32m      5\u001b[0m \u001b[0;31m#2 [sql] List the name(s) of the most prolific author(s) of news articles of fake type. An author is among the most prolific if it has authored as many or more fake news articles as any other author in the dataset.\u001b[0m\u001b[0;34m\u001b[0m\u001b[0;34m\u001b[0m\u001b[0;34m\u001b[0m\u001b[0m\n",
      "\u001b[0;31mInFailedSqlTransaction\u001b[0m: current transaction is aborted, commands ignored until end of transaction block\n"
     ]
    }
   ],
   "source": [
    "#Milestone 2 Task 3\n",
    "#1 [sql] List the domains of news articles of reliable type and scraped at or after January 15, 2018. NOTE: Do not include duplicate domains in your answer.\n",
    "cur.execute(\"select distinct domain_name from owns where article_id in (select id from article a where type = 'reliable' and a.scraped_at > '2018-01-24')\")\n",
    "print(cur.fetchall())\n",
    "#2 [sql] List the name(s) of the most prolific author(s) of news articles of fake type. An author is among the most prolific if it has authored as many or more fake news articles as any other author in the dataset.\n",
    "#We chose to fetch top 5 authors with most fake news articles. \n",
    "cur.execute(\"select author_name, count(*) from authors_of where article_id in (select id from article where type = 'fake') and author_name != 'nan' group by author_name order by count(*) desc limit 5 \")\n",
    "print(cur.fetchall())\n",
    "\n",
    "#3. [sql] Count the pairs of article IDs that exhibit the exact same set of meta-keywords, but only return the pairs where the set of meta-keywords is not empty. \n",
    "#cur.execute(\"select aa.id, bb.id from (select  from article_meta_keywords where meta_keyword !='') aa inner join (select   from article_meta_keywords where meta_keyword !='') bb on aa.meta_keyword = bb.meta_keyword  where aa.id < bb.id order by aa.id\")\n",
    "print(cur.fetchall())\n",
    "\n",
    "#cur.execute(\" select  aa.id, bb.id from (select count(meta_keyword) , id from article_meta_keywords where meta_keyword !=''group by id order by count desc) aa inner join  (select count(meta_keyword) , id from  article_meta_keywords  where meta_keyword !=''group by id order by count desc) bb on aa.count = bb.count  where aa.id < bb.id  order by aa.id  \")\n",
    "print(cur.fetchall())\n",
    "\n"
   ]
  },
  {
   "cell_type": "markdown",
   "metadata": {},
   "source": [
    "#1 relational algebra\n",
    "\n",
    "reliable_domains := π{domain_name} (σ{a.type = 'reliable' and a.scraped_at > '2018-01-24' and a.id = o.article_id}(owns X article ))\n",
    "\n",
    "reliable_domains := π{domain_name} owns ⋈{a.type = 'reliable' and a.scraped_at > '2018-01-24' and a.id = o.article_id} article\n",
    "\n",
    "2# extended relational algebra\n",
    "\n",
    "top_5_fake_authors :=\n",
    "\n"
   ]
  },
  {
   "cell_type": "markdown",
   "metadata": {},
   "source": [
    "Article_tags\n",
    "attribute: tag, article_id\n",
    "\n",
    "functional dependency: article_id\n",
    "\n",
    "primary key: none\n",
    "\n",
    "owns_relation\n",
    "attribute: domain, article_id\n",
    "\n",
    "functional dependency: article_id\n",
    "\n",
    "primary key: none\n",
    "\n",
    "authors_of_article\n",
    "attribute: author, article_id\n",
    "\n",
    "functional dependency: article_id\n",
    "\n",
    "primary key: none\n",
    "\n",
    "meta_article_keywords\n",
    "attribute: meta_keywords, article_id\n",
    "\n",
    "functional dependency: article_id\n",
    "\n",
    "primary key: none\n",
    "\n",
    "article_keyword\n",
    "attribute: keyword, article_id\n",
    "\n",
    "functional dependency: article_id\n",
    "\n",
    "primary key none"
   ]
  },
  {
   "cell_type": "code",
   "execution_count": 45,
   "metadata": {},
   "outputs": [
    {
     "ename": "NameError",
     "evalue": "name 'cur' is not defined",
     "output_type": "error",
     "traceback": [
      "\u001b[0;31m---------------------------------------------------------------------------\u001b[0m",
      "\u001b[0;31mNameError\u001b[0m                                 Traceback (most recent call last)",
      "\u001b[0;32m<ipython-input-45-d65d4e80241b>\u001b[0m in \u001b[0;36m<module>\u001b[0;34m\u001b[0m\n\u001b[1;32m      1\u001b[0m \u001b[0;31m#Milestone 2 Task 3\u001b[0m\u001b[0;34m\u001b[0m\u001b[0;34m\u001b[0m\u001b[0;34m\u001b[0m\u001b[0m\n\u001b[1;32m      2\u001b[0m \u001b[0;31m#1 [sql] List the domains of news articles of reliable type and scraped at or after January 15, 2018. NOTE: Do not include duplicate domains in your answer.\u001b[0m\u001b[0;34m\u001b[0m\u001b[0;34m\u001b[0m\u001b[0;34m\u001b[0m\u001b[0m\n\u001b[0;32m----> 3\u001b[0;31m cur.execute(\"\"\"\n\u001b[0m\u001b[1;32m      4\u001b[0m \u001b[0mselect\u001b[0m \u001b[0mdistinct\u001b[0m \u001b[0mdomain_name\u001b[0m \u001b[0;32mfrom\u001b[0m \u001b[0mowns\u001b[0m\u001b[0;34m\u001b[0m\u001b[0;34m\u001b[0m\u001b[0m\n\u001b[1;32m      5\u001b[0m \u001b[0mwhere\u001b[0m \u001b[0marticle_id\u001b[0m \u001b[0;32min\u001b[0m\u001b[0;34m\u001b[0m\u001b[0;34m\u001b[0m\u001b[0m\n",
      "\u001b[0;31mNameError\u001b[0m: name 'cur' is not defined"
     ]
    }
   ],
   "source": [
    "#Milestone 2 Task 3\n",
    "#1 [sql] List the domains of news articles of reliable type and scraped at or after January 15, 2018. NOTE: Do not include duplicate domains in your answer.    \n",
    "cur.execute(\"\"\"\n",
    "select distinct domain_name from owns \n",
    "where article_id in \n",
    "(select id from article a \n",
    "where type = 'reliable' and a.scraped_at > '2018-01-24')\"\"\")\n",
    "print(cur.fetchall())\n",
    "#2 [sql] List the name(s) of the most prolific author(s) of news articles of fake type. An author is among the most prolific if it has authored as many or more fake news articles as any other author in the dataset.\n",
    "#We chose to fetch top 5 authors with most fake news articles. \n",
    "cur.execute(\"\"\"\n",
    "select author_name, count(*) from authors_of \n",
    "where article_id in \n",
    "    (select id from article \n",
    "    where type = 'fake') \n",
    "and author_name != 'nan' \n",
    "group by author_name \n",
    "order by count(*) desc limit 5 \"\"\")\n",
    "print(cur.fetchall())\n",
    "\n",
    "#3. [sql] Count the pairs of article IDs that exhibit the exact same set of meta-keywords, but only return the pairs where the set of meta-keywords is not empty. \n",
    "cur.execute(\"\"\"\n",
    "select count(*) from \n",
    "    (select * from \n",
    "        (select count(*) , * from \n",
    "            (select aa.id, bb.id from \n",
    "                (select * from article_meta_keywords where meta_keyword !='') aa \n",
    "            inner join \n",
    "                (select * from article_meta_keywords where meta_keyword !='') bb\n",
    "            on aa.meta_keyword = bb.meta_keyword  \n",
    "            where aa.id < bb.id \n",
    "            order by aa.id) keyword_match(col1, col2) \n",
    "            group by (col1, col2) \n",
    "            order by col1 asc) n_of_matches(matches_n, matches_id, b)\n",
    "\n",
    "        , \n",
    "\n",
    "            (select id, count(id) from article_meta_keywords\n",
    "            group by id \n",
    "            order by count desc) \n",
    "        n_of_metaKeywords(count_id, count_n) \n",
    "    where n_of_matches.matches_id = n_of_metaKeywords.count_id \n",
    "    and n_of_matches.matches_n= n_of_metaKeywords.count_n \n",
    "    order by matches_n desc )\n",
    " total\"\"\")\n",
    "print(cur.fetchall())\n",
    "#Bonus: get the list of id's with matching meta_keywords: \n",
    "cur.execute(\"\"\"\n",
    "select matches_n, matches_id, matched_with from \n",
    "    (select count(*) , * from \n",
    "        (select aa.id, bb.id from \n",
    "            (select * from article_meta_keywords where meta_keyword !='') aa \n",
    "            inner join \n",
    "            (select * from article_meta_keywords where meta_keyword !='') bb \n",
    "        on aa.meta_keyword = bb.meta_keyword  \n",
    "        where aa.id < bb.id order by aa.id) keyword_match(col1, col2)\n",
    "        group by (col1, col2) \n",
    "        order by col1 asc) n_of_matches(matches_n, matches_id, matched_with)\n",
    "\n",
    "        , \n",
    "\n",
    "        (select id, count(id) from article_meta_keywords\n",
    "        group by id order by count desc) \n",
    "        n_of_metaKeywords(count_id, count_n)\n",
    "\n",
    "where \n",
    "n_of_matches.matches_id = n_of_metaKeywords.count_id and\n",
    "n_of_matches.matches_n= n_of_metaKeywords.count_n\n",
    "order by matches_n desc\n",
    "\"\"\")\n",
    "print(cur.fetchall()[:30])\n",
    "\n"
   ]
  },
  {
   "cell_type": "code",
   "execution_count": null,
   "metadata": {},
   "outputs": [],
   "source": []
  },
  {
   "cell_type": "markdown",
   "metadata": {},
   "source": []
  },
  {
   "cell_type": "code",
   "execution_count": null,
   "metadata": {},
   "outputs": [],
   "source": []
  },
  {
   "cell_type": "markdown",
   "metadata": {},
   "source": []
  },
  {
   "cell_type": "code",
   "execution_count": null,
   "metadata": {},
   "outputs": [],
   "source": []
  }
 ],
 "metadata": {
  "kernelspec": {
   "display_name": "Python 3",
   "language": "python",
   "name": "python3"
  },
  "language_info": {
   "codemirror_mode": {
    "name": "ipython",
    "version": 3
   },
   "file_extension": ".py",
   "mimetype": "text/x-python",
   "name": "python",
   "nbconvert_exporter": "python",
   "pygments_lexer": "ipython3",
   "version": "3.8.3"
  }
 },
 "nbformat": 4,
 "nbformat_minor": 4
}
