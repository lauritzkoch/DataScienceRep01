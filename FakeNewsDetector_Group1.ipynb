{
 "cells": [
  {
   "cell_type": "code",
   "execution_count": 2,
   "metadata": {},
   "outputs": [],
   "source": [
    "import pandas as pd\n",
    "import numpy as np\n",
    "import re\n",
    "import math\n",
    "import requests\n",
    "from bs4 import BeautifulSoup"
   ]
  },
  {
   "cell_type": "code",
   "execution_count": 40,
   "metadata": {},
   "outputs": [
    {
     "name": "stderr",
     "output_type": "stream",
     "text": [
      "[nltk_data] Downloading package punkt to\n",
      "[nltk_data]     /Users/danielstephensen/nltk_data...\n",
      "[nltk_data]   Package punkt is already up-to-date!\n",
      "[nltk_data] Downloading package stopwords to\n",
      "[nltk_data]     /Users/danielstephensen/nltk_data...\n",
      "[nltk_data]   Package stopwords is already up-to-date!\n"
     ]
    }
   ],
   "source": [
    "import nltk\n",
    "from nltk import word_tokenize\n",
    "from nltk.corpus import stopwords\n",
    "from nltk.stem import porter\n",
    "nltk.download('punkt')\n",
    "nltk.download('stopwords')\n",
    "import matplotlib.pyplot as plt\n",
    "import psycopg2 as pc\n",
    "from IPython import display\n"
   ]
  },
  {
   "cell_type": "markdown",
   "metadata": {},
   "source": [
    "Before going further and executing the code, make sure to change the database name, username and password for your SQL database and the path to the path to the 'SQLtables' repository with the csv files in it, so it adjusted to your computer."
   ]
  },
  {
   "cell_type": "code",
   "execution_count": 5,
   "metadata": {},
   "outputs": [],
   "source": [
    "SQL_database_login = \"dbname=postgres user=postgres password=***\"\n",
    "SQLtables_path = \"/Users/danielstephensen/Desktop/DataScienceGit/SQLtables/\""
   ]
  },
  {
   "cell_type": "markdown",
   "metadata": {},
   "source": [
    "## Function Definitions"
   ]
  },
  {
   "cell_type": "code",
   "execution_count": 10,
   "metadata": {},
   "outputs": [],
   "source": [
    "#cleantext cleans the input string with the following functions: Characters are set to lowercase, \n",
    "#urls are substituted with <URL>, dates are substitured with <DATE>, emails are substitured with <EMAIL>\n",
    "#numbers are substitured with <NUM>, newlines and non-letter characters are removed.\n",
    "def cleantext(text):\n",
    "    text = str(text)\n",
    "    text = text.lower()\n",
    "    text = re.sub(r'<|>', \"\", text)\n",
    "    text = re.sub(r'(https?:\\/\\/)?w{0,3}\\.?[a-z]+\\.[a-z]\\w*[\\w\\/-]*', \"<URL>\", text)\n",
    "    text = re.sub(r'(jan\\.?(uary)?|feb\\.?(uary)?|mar\\.?(ch)?|apr\\.?(il)?|may|jun\\.(e)?|jul\\.(y)?|aug\\.?(ust)?|sep\\.?(tember)?|oct\\.?(ober)?|nov\\.?(ember)?|dec\\.?(ember)?|monday|tuesday|wednesday|thursday|friday|saturday|sunday) (the )?\\d{1,2}((th)?,?( \\d{4})?)?', \"<DATE>\", text)\n",
    "    text = re.sub(r'\\w+@\\w+\\.[a-zA-Z]{2,3}', \"<EMAIL>\", text)\n",
    "    text = re.sub(r'[0-9]+', \"<NUM>\", text)\n",
    "    text = re.sub(r'(\\\\n)+|\\s{2,}|(\\\\t+)', \" \", text)\n",
    "    text = re.sub(r'\\.|,|\\\\|-|\\?|\\(|\\)|\\||&|\"|”|“|:|!|\\+|-|–|—|\\/|\\$|%|€|#|;|\\[|\\]|©|®|…|=', \"\", text)\n",
    "    return text\n",
    "\n",
    "#cleanMetaKeywords cleans the input string with the following functions: \n",
    "#Characters are set to lowercase, newlines and non-letter characters are removed.\n",
    "def cleanMetaKeywords(text):\n",
    "    text = str(text)\n",
    "    text = text.lower()\n",
    "    text = re.sub(r'(\\\\n)+|\\s{2,}|(\\\\t+)', \" \", text)\n",
    "    text = re.sub(r'\\.|\\\\|-|\\?|\\(|\\)|\\||&|\"|”|“|:|!|\\+|-|\\'|–|—|\\/|\\$|%|€|#|;|\\[|\\]|©|®|…|=|<|>', \"\", text)\n",
    "    return text\n",
    "\n",
    "def tokenize(text):\n",
    "    return word_tokenize(text)\n",
    "\n",
    "def stopword(word_list):\n",
    "    stop_words = stopwords.words('english')\n",
    "    \n",
    "    return [word for word in word_list if word not in stop_words]\n",
    "\n",
    "def stemming(word_list):\n",
    "    stemmer = porter.PorterStemmer()\n",
    "\n",
    "    return [stemmer.stem(word) for word in word_list]\n"
   ]
  },
  {
   "cell_type": "markdown",
   "metadata": {},
   "source": [
    "## Task 1"
   ]
  },
  {
   "cell_type": "code",
   "execution_count": 7,
   "metadata": {
    "tags": []
   },
   "outputs": [
    {
     "name": "stderr",
     "output_type": "stream",
     "text": [
      "/opt/anaconda3/lib/python3.8/site-packages/IPython/core/interactiveshell.py:3071: DtypeWarning: Columns (0,1) have mixed types.Specify dtype option on import or set low_memory=False.\n",
      "  has_raised = await self.run_ast_nodes(code_ast.body, cell_name,\n"
     ]
    }
   ],
   "source": [
    "#Reading the data from 1mio-raw.csv\n",
    "dataTotal = pd.read_csv('1mio-raw.csv/1mio-raw.csv')\n",
    "\n",
    "#We will only analyse a smaller part of the data set\n",
    "data = dataTotal[:1000]\n"
   ]
  },
  {
   "cell_type": "code",
   "execution_count": 11,
   "metadata": {
    "scrolled": true,
    "tags": []
   },
   "outputs": [],
   "source": [
    "#Cleaning the content\n",
    "cleaned_content = [cleantext(article_content) for article_content in data['content']]\n",
    "\n",
    "#Tokenizing the cleaned data\n",
    "tokens = [tokenize(clean_text) for clean_text in cleaned_content]\n",
    "\n",
    "#Removing stopwords\n",
    "stopwords = [stopword(token_list) for token_list in tokens]\n",
    "\n",
    "#Stemming the data (this is used for the 'keywords' attribute)\n",
    "stemmed_data = [stemming(stopword_list) for stopword_list in stopwords]\n",
    "\n",
    "#Cleaning meta keywords\n",
    "clean_meta_keywords = [cleanMetaKeywords(metakeyword) for metakeyword in data[\"meta_keywords\"]]\n"
   ]
  },
  {
   "cell_type": "code",
   "execution_count": 12,
   "metadata": {},
   "outputs": [
    {
     "name": "stderr",
     "output_type": "stream",
     "text": [
      "<ipython-input-12-949903fe36fc>:2: SettingWithCopyWarning: \n",
      "A value is trying to be set on a copy of a slice from a DataFrame.\n",
      "Try using .loc[row_indexer,col_indexer] = value instead\n",
      "\n",
      "See the caveats in the documentation: https://pandas.pydata.org/pandas-docs/stable/user_guide/indexing.html#returning-a-view-versus-a-copy\n",
      "  data[\"tags\"] = [[tag.strip for tag in (str(i)).split(\",\")] for i in data[\"tags\"]]\n",
      "<ipython-input-12-949903fe36fc>:3: SettingWithCopyWarning: \n",
      "A value is trying to be set on a copy of a slice from a DataFrame.\n",
      "Try using .loc[row_indexer,col_indexer] = value instead\n",
      "\n",
      "See the caveats in the documentation: https://pandas.pydata.org/pandas-docs/stable/user_guide/indexing.html#returning-a-view-versus-a-copy\n",
      "  data[\"authors\"] = [[author.strip for author in (str(i)).split(\",\")] for i in data[\"authors\"]]\n",
      "<ipython-input-12-949903fe36fc>:4: SettingWithCopyWarning: \n",
      "A value is trying to be set on a copy of a slice from a DataFrame.\n",
      "Try using .loc[row_indexer,col_indexer] = value instead\n",
      "\n",
      "See the caveats in the documentation: https://pandas.pydata.org/pandas-docs/stable/user_guide/indexing.html#returning-a-view-versus-a-copy\n",
      "  data[\"meta_keywords\"] = [[meta_keyword.strip for meta_keyword in (str(i)).split(\",\")] for i in clean_meta_keywords]\n",
      "<ipython-input-12-949903fe36fc>:5: SettingWithCopyWarning: \n",
      "A value is trying to be set on a copy of a slice from a DataFrame.\n",
      "Try using .loc[row_indexer,col_indexer] = value instead\n",
      "\n",
      "See the caveats in the documentation: https://pandas.pydata.org/pandas-docs/stable/user_guide/indexing.html#returning-a-view-versus-a-copy\n",
      "  data[\"keywords\"] = stemmed_data\n"
     ]
    }
   ],
   "source": [
    "#Making sure that each element of 'tags', 'authors' and 'meta_keywords' are stripped stings and converting them to arrays\n",
    "data[\"tags\"] = [[tag.strip for tag in (str(i)).split(\",\")] for i in data[\"tags\"]]\n",
    "data[\"authors\"] = [[author.strip for author in (str(i)).split(\",\")] for i in data[\"authors\"]]\n",
    "data[\"meta_keywords\"] = [[meta_keyword.strip for meta_keyword in (str(i)).split(\",\")] for i in clean_meta_keywords]\n",
    "data[\"keywords\"] = stemmed_data\n",
    "data[\"content\"] = cleaned_content\n"
   ]
  },
  {
   "cell_type": "code",
   "execution_count": 13,
   "metadata": {},
   "outputs": [],
   "source": [
    "#Relation tables\n",
    "article_tags = data[['id','tags']].explode('tags')\n",
    "owns = data[['id', 'domain']]\n",
    "article_authors = data[['id','authors']].explode('authors')\n",
    "article_keywords = data[['id','keywords']].explode('keywords')\n",
    "article_meta_keywords  = data[['id','meta_keywords']].explode('meta_keywords')\n",
    "article_types = data[['id','type']]\n"
   ]
  },
  {
   "cell_type": "code",
   "execution_count": 23,
   "metadata": {},
   "outputs": [],
   "source": [
    "#Entity tables\n",
    "articles = data[['id','content','url','scraped_at','inserted_at','updated_at','meta_description','title']]\n",
    "keywords = pd.DataFrame(set(data[['keywords']].explode('keywords')))\n",
    "meta_keywords = pd.DataFrame(set(data[['meta_keywords']].explode('meta_keywords')))\n",
    "tags = pd.DataFrame(set(data[['tags']].explode('tags')))\n",
    "domains = pd.DataFrame(set(data['domain']))\n",
    "authors = pd.DataFrame(set(data[['authors']].explode('authors')))\n",
    "types =  pd.DataFrame(set(data['type']))"
   ]
  },
  {
   "cell_type": "code",
   "execution_count": 19,
   "metadata": {},
   "outputs": [],
   "source": [
    "#Entities to CSV\n",
    "articles.to_csv(\"SQLtables/articles.csv\",index=False,header=False)\n",
    "keywords.to_csv(\"SQLtables/keywords.csv\",index=False,header=False)\n",
    "meta_keywords.to_csv(\"SQLtables/meta_keywords.csv\",index=False,header=False)\n",
    "tags.to_csv(\"SQLtables/tags.csv\",index=False,header=False)\n",
    "authors.to_csv(\"SQLtables/authors.csv\",index=False,header=False)\n",
    "domains.to_csv(\"SQLtables/domains.csv\",index=False,header=False)\n",
    "types.to_csv(\"SQLtables/types.csv\",index=False,header=False)\n",
    "\n",
    "#Relations to CSV\n",
    "owns.to_csv(\"SQLtables/owns.csv\",index=False,header=False)\n",
    "article_authors.to_csv(\"SQLtables/article_authors.csv\",index=False,header=False)\n",
    "article_tags.to_csv(\"SQLtables/article_tags.csv\",index=False,header=False)\n",
    "article_keywords.to_csv(\"SQLtables/article_keywords.csv\",index=False,header=False)\n",
    "article_meta_keywords.to_csv(\"SQLtables/article_meta_keywords.csv\",index=False,header=False)\n",
    "article_types.to_csv(\"SQLtables/article_types.csv\",index=False,header=False)"
   ]
  },
  {
   "cell_type": "code",
   "execution_count": 20,
   "metadata": {},
   "outputs": [],
   "source": [
    "#Setting up a connection with the SQL server. Make sure that you write your own dbname, user and password as input\n",
    "conn = pc.connect(SQL_database_login)\n",
    "cur = conn.cursor()"
   ]
  },
  {
   "cell_type": "code",
   "execution_count": 41,
   "metadata": {},
   "outputs": [
    {
     "ename": "InFailedSqlTransaction",
     "evalue": "current transaction is aborted, commands ignored until end of transaction block\n",
     "output_type": "error",
     "traceback": [
      "\u001b[0;31m---------------------------------------------------------------------------\u001b[0m",
      "\u001b[0;31mInFailedSqlTransaction\u001b[0m                    Traceback (most recent call last)",
      "\u001b[0;32m<ipython-input-41-73e46a3b1fca>\u001b[0m in \u001b[0;36m<module>\u001b[0;34m\u001b[0m\n\u001b[1;32m      1\u001b[0m \u001b[0;31m#Creating tables if they are not on the SQL server already\u001b[0m\u001b[0;34m\u001b[0m\u001b[0;34m\u001b[0m\u001b[0;34m\u001b[0m\u001b[0m\n\u001b[0;32m----> 2\u001b[0;31m \u001b[0mcur\u001b[0m\u001b[0;34m.\u001b[0m\u001b[0mexecute\u001b[0m\u001b[0;34m(\u001b[0m\u001b[0;34m\"BEGIN TRANSACTION;\"\u001b[0m\u001b[0;34m)\u001b[0m\u001b[0;34m\u001b[0m\u001b[0;34m\u001b[0m\u001b[0m\n\u001b[0m\u001b[1;32m      3\u001b[0m \u001b[0mcur\u001b[0m\u001b[0;34m.\u001b[0m\u001b[0mexecute\u001b[0m\u001b[0;34m(\u001b[0m\u001b[0;34m\"CREATE TABLE IF NOT EXISTS public.article(id integer, content text COLLATE pg_catalog.\\\"default\\\", url text COLLATE pg_catalog.\\\"default\\\", scraped_at date, inserted_at date, updated_at date, meta_description text COLLATE pg_catalog.\\\"default\\\", title text COLLATE pg_catalog.\\\"default\\\") WITH (OIDS = FALSE) TABLESPACE pg_default;\"\u001b[0m\u001b[0;34m)\u001b[0m\u001b[0;34m\u001b[0m\u001b[0;34m\u001b[0m\u001b[0m\n\u001b[1;32m      4\u001b[0m \u001b[0mcur\u001b[0m\u001b[0;34m.\u001b[0m\u001b[0mexecute\u001b[0m\u001b[0;34m(\u001b[0m\u001b[0;34m\"CREATE TABLE IF NOT EXISTS public.article_keyword(id integer, keyword text COLLATE pg_catalog.\\\"default\\\") WITH (OIDS = FALSE) TABLESPACE pg_default;\"\u001b[0m\u001b[0;34m)\u001b[0m\u001b[0;34m\u001b[0m\u001b[0;34m\u001b[0m\u001b[0m\n\u001b[1;32m      5\u001b[0m \u001b[0mcur\u001b[0m\u001b[0;34m.\u001b[0m\u001b[0mexecute\u001b[0m\u001b[0;34m(\u001b[0m\u001b[0;34m\"CREATE TABLE IF NOT EXISTS public.article_meta_keywords(id integer, meta_keyword text COLLATE pg_catalog.\\\"default\\\") WITH (OIDS = FALSE) TABLESPACE pg_default;\"\u001b[0m\u001b[0;34m)\u001b[0m\u001b[0;34m\u001b[0m\u001b[0;34m\u001b[0m\u001b[0m\n",
      "\u001b[0;31mInFailedSqlTransaction\u001b[0m: current transaction is aborted, commands ignored until end of transaction block\n"
     ]
    }
   ],
   "source": [
    "#Creating tables if they are not on the SQL server already\n",
    "cur.execute(\"BEGIN TRANSACTION;\")\n",
    "cur.execute(\"CREATE TABLE IF NOT EXISTS public.article(id integer, content text COLLATE pg_catalog.\\\"default\\\", url text COLLATE pg_catalog.\\\"default\\\", scraped_at date, inserted_at date, updated_at date, meta_description text COLLATE pg_catalog.\\\"default\\\", title text COLLATE pg_catalog.\\\"default\\\") WITH (OIDS = FALSE) TABLESPACE pg_default;\")\n",
    "cur.execute(\"CREATE TABLE IF NOT EXISTS public.article_keyword(article_id integer, keyword text COLLATE pg_catalog.\\\"default\\\") WITH (OIDS = FALSE) TABLESPACE pg_default;\")\n",
    "cur.execute(\"CREATE TABLE IF NOT EXISTS public.article_meta_keywords(article_id integer, meta_keyword text COLLATE pg_catalog.\\\"default\\\") WITH (OIDS = FALSE) TABLESPACE pg_default;\")\n",
    "cur.execute(\"CREATE TABLE IF NOT EXISTS public.article_tags(article_id integer,tag text COLLATE pg_catalog.\\\"default\\\") WITH (OIDS = FALSE) TABLESPACE pg_default;\")\n",
    "cur.execute(\"CREATE TABLE IF NOT EXISTS public.authors(name text COLLATE pg_catalog.\\\"default\\\") WITH (OIDS = FALSE) TABLESPACE pg_default;\")\n",
    "cur.execute(\"CREATE TABLE IF NOT EXISTS public.authors_of(article_id integer, author_name text COLLATE pg_catalog.\\\"default\\\") WITH (OIDS = FALSE) TABLESPACE pg_default;\")\n",
    "cur.execute(\"CREATE TABLE IF NOT EXISTS public.domain(name text COLLATE pg_catalog.\\\"default\\\") WITH (OIDS = FALSE) TABLESPACE pg_default;\")\n",
    "cur.execute(\"CREATE TABLE IF NOT EXISTS public.keywords(keyword text COLLATE pg_catalog.\\\"default\\\") WITH (OIDS = FALSE) TABLESPACE pg_default;\")\n",
    "cur.execute(\"CREATE TABLE IF NOT EXISTS public.meta_keywords(meta_keyword text COLLATE pg_catalog.\\\"default\\\") WITH (OIDS = FALSE) TABLESPACE pg_default;\")\n",
    "cur.execute(\"CREATE TABLE IF NOT EXISTS public.owns(article_id integer, domain_name text COLLATE pg_catalog.\\\"default\\\") WITH (OIDS = FALSE) TABLESPACE pg_default;\")\n",
    "cur.execute(\"CREATE TABLE IF NOT EXISTS public.tags(tag text COLLATE pg_catalog.\\\"default\\\") WITH (OIDS = FALSE) TABLESPACE pg_default;\")\n",
    "cur.execute(\"CREATE TABLE IF NOT EXISTS public.types(type text COLLATE pg_catalog.\\\"default\\\") WITH (OIDS = FALSE) TABLESPACE pg_default;\")\n",
    "cur.execute(\"CREATE TABLE IF NOT EXISTS public.article_types(article_id integer,type text COLLATE pg_catalog.\\\"default\\\") WITH (OIDS = FALSE) TABLESPACE pg_default;\")\n",
    "cur.execute(\"COMMIT TRANSACTION;\")"
   ]
  },
  {
   "cell_type": "code",
   "execution_count": 22,
   "metadata": {},
   "outputs": [
    {
     "ename": "InsufficientPrivilege",
     "evalue": "could not open file \"/Users/danielstephensen/Desktop/DataScienceGit/SQLtables/articles_table.csv\" for reading: Permission denied\nHINT:  COPY FROM instructs the PostgreSQL server process to read a file. You may want a client-side facility such as psql's \\copy.\n",
     "output_type": "error",
     "traceback": [
      "\u001b[0;31m---------------------------------------------------------------------------\u001b[0m",
      "\u001b[0;31mInsufficientPrivilege\u001b[0m                     Traceback (most recent call last)",
      "\u001b[0;32m<ipython-input-22-4ec92fbc0655>\u001b[0m in \u001b[0;36m<module>\u001b[0;34m\u001b[0m\n\u001b[1;32m      2\u001b[0m \u001b[0;31m#(first all current tuples in the tables are deleted and then the new data is copied into the tables)\u001b[0m\u001b[0;34m\u001b[0m\u001b[0;34m\u001b[0m\u001b[0;34m\u001b[0m\u001b[0m\n\u001b[1;32m      3\u001b[0m \u001b[0mcur\u001b[0m\u001b[0;34m.\u001b[0m\u001b[0mexecute\u001b[0m\u001b[0;34m(\u001b[0m\u001b[0;34m\"BEGIN TRANSACTION;\"\u001b[0m\u001b[0;34m)\u001b[0m\u001b[0;34m\u001b[0m\u001b[0;34m\u001b[0m\u001b[0m\n\u001b[0;32m----> 4\u001b[0;31m \u001b[0mcur\u001b[0m\u001b[0;34m.\u001b[0m\u001b[0mexecute\u001b[0m\u001b[0;34m(\u001b[0m\u001b[0;34m\"delete from article *; copy article from '\"\u001b[0m \u001b[0;34m+\u001b[0m \u001b[0mSQLtables_path\u001b[0m \u001b[0;34m+\u001b[0m \u001b[0;34m\"articles_table.csv' with (format csv);\"\u001b[0m\u001b[0;34m)\u001b[0m\u001b[0;34m\u001b[0m\u001b[0;34m\u001b[0m\u001b[0m\n\u001b[0m\u001b[1;32m      5\u001b[0m \u001b[0mcur\u001b[0m\u001b[0;34m.\u001b[0m\u001b[0mexecute\u001b[0m\u001b[0;34m(\u001b[0m\u001b[0;34m\"delete from authors *; copy article from '\"\u001b[0m \u001b[0;34m+\u001b[0m \u001b[0mSQLtables_path\u001b[0m \u001b[0;34m+\u001b[0m \u001b[0;34m\"authors_table.csv' with (format csv);\"\u001b[0m\u001b[0;34m)\u001b[0m\u001b[0;34m\u001b[0m\u001b[0;34m\u001b[0m\u001b[0m\n\u001b[1;32m      6\u001b[0m \u001b[0mcur\u001b[0m\u001b[0;34m.\u001b[0m\u001b[0mexecute\u001b[0m\u001b[0;34m(\u001b[0m\u001b[0;34m\"delete from authors_of *; copy article from '\"\u001b[0m \u001b[0;34m+\u001b[0m \u001b[0mSQLtables_path\u001b[0m \u001b[0;34m+\u001b[0m \u001b[0;34m\"authors_of_article.csv' with (format csv);\"\u001b[0m\u001b[0;34m)\u001b[0m\u001b[0;34m\u001b[0m\u001b[0;34m\u001b[0m\u001b[0m\n",
      "\u001b[0;31mInsufficientPrivilege\u001b[0m: could not open file \"/Users/danielstephensen/Desktop/DataScienceGit/SQLtables/articles_table.csv\" for reading: Permission denied\nHINT:  COPY FROM instructs the PostgreSQL server process to read a file. You may want a client-side facility such as psql's \\copy.\n"
     ]
    }
   ],
   "source": [
    "#Setting up the SQL tables from the csv files created above \n",
    "#(first all current tuples in the tables are deleted and then the new data is copied into the tables)\n",
    "cur.execute(\"BEGIN TRANSACTION;\")\n",
    "cur.execute(\"delete from article *; copy article from '\" + SQLtables_path + \"articles.csv' with (format csv);\")\n",
    "cur.execute(\"delete from authors *; copy authors from '\" + SQLtables_path + \"authors.csv' with (format csv);\")\n",
    "cur.execute(\"delete from authors_of *; copy authors_of from '\" + SQLtables_path + \"article_authors.csv' with (format csv);\")\n",
    "cur.execute(\"delete from owns *; copy owns from '\" + SQLtables_path + \"owns.csv' with (format csv);\")\n",
    "cur.execute(\"delete from tags *; copy tags from '\" + SQLtables_path + \"tags.csv' with (format csv);\")\n",
    "cur.execute(\"delete from keywords *; copy keywords from '\" + SQLtables_path + \"keywords.csv' with (format csv);\")\n",
    "cur.execute(\"delete from meta_keywords *; copy meta_keywords from '\" + SQLtables_path + \"meta_keywords.csv' with (format csv);\")\n",
    "cur.execute(\"delete from domain *; copy domain from '\" + SQLtables_path + \"domains.csv' with (format csv);\")\n",
    "cur.execute(\"delete from article_tags *; copy article_tags from '\" + SQLtables_path + \"article_tags.csv' with (format csv);\")\n",
    "cur.execute(\"delete from article_keyword *; copy article_keyword from '\" + SQLtables_path + \"article_keywords.csv' with (format csv);\")\n",
    "cur.execute(\"delete from article_meta_keywords *; copy article_meta_keywords from '\" + SQLtables_path + \"article_meta_keywords.csv' with (format csv);\")\n",
    "cur.execute(\"delete from types *; copy types from '\" + SQLtables_path + \"types.csv' with (format csv);\")\n",
    "cur.execute(\"delete from article_types *; copy article_types from '\" + SQLtables_path + \"article_types.csv' with (format csv);\")\n",
    "cur.execute(\"COMMIT TRANSACTION;\")\n",
    "cur.fetchall()"
   ]
  },
  {
   "cell_type": "code",
   "execution_count": 43,
   "metadata": {},
   "outputs": [
    {
     "data": {
      "image/png": "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\n",
      "text/plain": [
       "<IPython.core.display.Image object>"
      ]
     },
     "execution_count": 43,
     "metadata": {},
     "output_type": "execute_result"
    }
   ],
   "source": [
    "display.Image(\"diagram.png\")"
   ]
  },
  {
   "cell_type": "markdown",
   "metadata": {},
   "source": [
    "Choice of Schema\n",
    "\n",
    "We have designed our database around the articles, using article_ID as the main primary key, which other relations refeer to.\n",
    "\n",
    "The table 'article' has the attributes which uniquely belonging to the given article. Attributes such as information about the time it was scraped, the URL, the type etc. all uniquely belongs to an article.\n",
    "\n",
    "We chose to create tables for the attributes 'tags', 'meta_keywords' and 'keywords' since each were consisting of a list of elements (violation of the first normal form), making it hard to explore in SQL.\n",
    "\n",
    "Thus, the relation tags consist of all possible tags that an article can have. The same is true for meta_keywords and keywords.\n",
    "\n",
    "The relation Domain is one-to-many relation, since each article has exactly one domain, but one domain can have many articles. Thus, it makes sence to make a relation for domain.\n",
    "\n",
    "The relation Authors is a many-to-many relationship since each author can write many articles and any article can have multiple authors. The same is true for types\n",
    "\n",
    "Each relation thus binds our tables 'Authors', 'Domain', 'Tags', 'Types', 'Meta_keywords' and 'keywords'. The tables right now only consist of a distinct list of author name, domain name, tag, 'type', meta_keyword and keyword. But this design enables easy scaling, if we want to add more information each table. For example the age of each author would easily be added to the 'authors' table. \n",
    "\n",
    "Also, we have chosen not to include and id attribute for each of these tables, because each of them already have a primary key. The advantage of this is that we save storage space and the disadvatage is that it can be more managable when each table is indexed by number.\n"
   ]
  },
  {
   "cell_type": "markdown",
   "metadata": {},
   "source": [
    "## Task 2"
   ]
  },
  {
   "cell_type": "markdown",
   "metadata": {},
   "source": [
    "### 2.1: Atrributes for each relation"
   ]
  },
  {
   "cell_type": "markdown",
   "metadata": {},
   "source": [
    "article: id, title, content, url, scraped_at, inserted_at, updated_at, meta_desciption, summary\n",
    "\n",
    "article_tags: tag, article_id\n",
    "\n",
    "article_meta_keywords: meta_keyword, article_id\n",
    "\n",
    "article_keywords: keyword, article_id\n",
    "\n",
    "article_authors: author, article_id\n",
    "\n",
    "article_types: type, article_id\n",
    "\n",
    "own: name, article_id\n",
    "\n",
    "tags: tag\n",
    "\n",
    "meta_keywords: meta_keyword\n",
    "\n",
    "keywords: keyword\n",
    "\n",
    "authors: name\n",
    "\n",
    "types: type\n",
    "\n",
    "domains: name"
   ]
  },
  {
   "cell_type": "markdown",
   "metadata": {},
   "source": [
    "### 2.2: Functional dependencies for each relation"
   ]
  },
  {
   "cell_type": "markdown",
   "metadata": {},
   "source": [
    "The only relation with a functional dependecy is 'article', which has the following function dependency:\n",
    "\n",
    "id -> title, content, url, scraped_at, inserted_at, updated_at, meta_desciption, summary"
   ]
  },
  {
   "cell_type": "markdown",
   "metadata": {},
   "source": [
    "### 2.3 Primary keys for each relation"
   ]
  },
  {
   "cell_type": "markdown",
   "metadata": {},
   "source": [
    "Only article, tags, meta_keywords, keywords, authors, types, domains has primary keys, which are shown below:\n",
    "\n",
    "article: id\n",
    "\n",
    "tags: tag\n",
    "\n",
    "meta_keywords: meta_keyword\n",
    "\n",
    "keywords: keyword\n",
    "\n",
    "authors: name\n",
    "\n",
    "types: type\n",
    "\n",
    "domains: name"
   ]
  },
  {
   "cell_type": "markdown",
   "metadata": {},
   "source": [
    "All relations are in BCNF.\n",
    "\n",
    "Advantages of using BCNF:\n",
    "1. You will less frequently store null values, which means that the quality of the data is better. If for example an article does not have a type, you do not have to set the type attribute to null, because it is not in the article relation.\n",
    "2. The database is more scalable. If for example you put in the birthdate of an author (This would only have to be modified in the author table).\n",
    "3. Less duplicated information. If for example the author table had an attribute birthdate, then the birthdate of the author would be present for each article (Thus, there would be duplicates of the authors birthdates if they have written more than one article) if author did not have its own table. By having a table for authors, there is only one birthdate per author.\n",
    "\n",
    "\n",
    "Disadvantages of using BCNF:\n",
    "\n",
    "1. It is harder to understand the relations between attributes from different tables, which are not included in the relation-table of the two tables.\n",
    "2. It takes more time to run, because you have to join more often\n",
    "3. It takes more time to implement\n"
   ]
  },
  {
   "cell_type": "markdown",
   "metadata": {},
   "source": [
    "## Task 3"
   ]
  },
  {
   "cell_type": "code",
   "execution_count": 42,
   "metadata": {
    "tags": []
   },
   "outputs": [
    {
     "ename": "InFailedSqlTransaction",
     "evalue": "current transaction is aborted, commands ignored until end of transaction block\n",
     "output_type": "error",
     "traceback": [
      "\u001b[0;31m---------------------------------------------------------------------------\u001b[0m",
      "\u001b[0;31mInFailedSqlTransaction\u001b[0m                    Traceback (most recent call last)",
      "\u001b[0;32m<ipython-input-42-ccb371a887cf>\u001b[0m in \u001b[0;36m<module>\u001b[0;34m\u001b[0m\n\u001b[1;32m      1\u001b[0m \u001b[0;31m#Milestone 2 Task 3\u001b[0m\u001b[0;34m\u001b[0m\u001b[0;34m\u001b[0m\u001b[0;34m\u001b[0m\u001b[0m\n\u001b[1;32m      2\u001b[0m \u001b[0;31m#1 [sql] List the domains of news articles of reliable type and scraped at or after January 15, 2018. NOTE: Do not include duplicate domains in your answer.\u001b[0m\u001b[0;34m\u001b[0m\u001b[0;34m\u001b[0m\u001b[0;34m\u001b[0m\u001b[0m\n\u001b[0;32m----> 3\u001b[0;31m \u001b[0mcur\u001b[0m\u001b[0;34m.\u001b[0m\u001b[0mexecute\u001b[0m\u001b[0;34m(\u001b[0m\u001b[0;34m\"select distinct domain_name from owns where article_id in (select id from article a where type = 'reliable' and a.scraped_at > '2018-01-24')\"\u001b[0m\u001b[0;34m)\u001b[0m\u001b[0;34m\u001b[0m\u001b[0;34m\u001b[0m\u001b[0m\n\u001b[0m\u001b[1;32m      4\u001b[0m \u001b[0mprint\u001b[0m\u001b[0;34m(\u001b[0m\u001b[0mcur\u001b[0m\u001b[0;34m.\u001b[0m\u001b[0mfetchall\u001b[0m\u001b[0;34m(\u001b[0m\u001b[0;34m)\u001b[0m\u001b[0;34m)\u001b[0m\u001b[0;34m\u001b[0m\u001b[0;34m\u001b[0m\u001b[0m\n\u001b[1;32m      5\u001b[0m \u001b[0;31m#2 [sql] List the name(s) of the most prolific author(s) of news articles of fake type. An author is among the most prolific if it has authored as many or more fake news articles as any other author in the dataset.\u001b[0m\u001b[0;34m\u001b[0m\u001b[0;34m\u001b[0m\u001b[0;34m\u001b[0m\u001b[0m\n",
      "\u001b[0;31mInFailedSqlTransaction\u001b[0m: current transaction is aborted, commands ignored until end of transaction block\n"
     ]
    }
   ],
   "source": [
    "#1 [sql] List the domains of news articles of reliable type and scraped at or after January 15, 2018. NOTE: Do not include duplicate domains in your answer.\n",
    "cur.execute(\"select distinct domain_name from owns where article_id in (select id from article a where type = 'reliable' and a.scraped_at > '2018-01-24')\")\n",
    "print(cur.fetchall())\n",
    "#2 [sql] List the name(s) of the most prolific author(s) of news articles of fake type. An author is among the most prolific if it has authored as many or more fake news articles as any other author in the dataset.\n",
    "#We chose to fetch top 5 authors with most fake news articles. \n",
    "cur.execute(\"select author_name, count(*) from authors_of where article_id in (select id from article where type = 'fake') and author_name != 'nan' group by author_name order by count(*) desc limit 5 \")\n",
    "print(cur.fetchall())\n",
    "\n",
    "#3. [sql] Count the pairs of article IDs that exhibit the exact same set of meta-keywords, but only return the pairs where the set of meta-keywords is not empty. \n",
    "#cur.execute(\"select aa.id, bb.id from (select  from article_meta_keywords where meta_keyword !='') aa inner join (select   from article_meta_keywords where meta_keyword !='') bb on aa.meta_keyword = bb.meta_keyword  where aa.id < bb.id order by aa.id\")\n",
    "print(cur.fetchall())\n",
    "\n",
    "#cur.execute(\" select  aa.id, bb.id from (select count(meta_keyword) , id from article_meta_keywords where meta_keyword !=''group by id order by count desc) aa inner join  (select count(meta_keyword) , id from  article_meta_keywords  where meta_keyword !=''group by id order by count desc) bb on aa.count = bb.count  where aa.id < bb.id  order by aa.id  \")\n",
    "print(cur.fetchall())\n",
    "\n"
   ]
  },
  {
   "cell_type": "markdown",
   "metadata": {},
   "source": [
<<<<<<< HEAD
=======
    "#1 relational algebra\n",
    "\n",
    "reliable_domains := π{domain_name} (σ{a.type = 'reliable' and a.scraped_at > '2018-01-24' and a.id = o.article_id}(owns X article ))\n",
    "\n",
    "reliable_domains := π{domain_name} owns ⋈{a.type = 'reliable' and a.scraped_at > '2018-01-24' and a.id = o.article_id} article\n",
    "\n",
    "2# extended relational algebra\n",
    "\n",
    "reliable_authors := π{author_name} (σ{type='fake' and author_name <> 'nan'\n",
    "tau_{count(type)}((gamma_{author_name}, count(type) (reliable_authors))\n",
    "\n"
   ]
  },
  {
   "cell_type": "markdown",
   "metadata": {},
   "source": [
>>>>>>> 358598924963f891ae14057fe18ebd5ecd0e8d5e
    "Article_tags\n",
    "attribute: tag, article_id\n",
    "\n",
    "functional dependency: article_id\n",
    "\n",
    "primary key: none\n",
    "\n",
    "owns_relation\n",
    "attribute: domain, article_id\n",
    "\n",
    "functional dependency: article_id\n",
    "\n",
    "primary key: none\n",
    "\n",
    "authors_of_article\n",
    "attribute: author, article_id\n",
    "\n",
    "functional dependency: article_id\n",
    "\n",
    "primary key: none\n",
    "\n",
    "meta_article_keywords\n",
    "attribute: meta_keywords, article_id\n",
    "\n",
    "functional dependency: article_id\n",
    "\n",
    "primary key: none\n",
    "\n",
    "article_keyword\n",
    "attribute: keyword, article_id\n",
    "\n",
    "functional dependency: article_id\n",
    "\n",
    "primary key none"
   ]
  },
  {
   "cell_type": "code",
   "execution_count": 45,
   "metadata": {},
   "outputs": [
    {
     "ename": "NameError",
     "evalue": "name 'cur' is not defined",
     "output_type": "error",
     "traceback": [
      "\u001b[0;31m---------------------------------------------------------------------------\u001b[0m",
      "\u001b[0;31mNameError\u001b[0m                                 Traceback (most recent call last)",
      "\u001b[0;32m<ipython-input-45-d65d4e80241b>\u001b[0m in \u001b[0;36m<module>\u001b[0;34m\u001b[0m\n\u001b[1;32m      1\u001b[0m \u001b[0;31m#Milestone 2 Task 3\u001b[0m\u001b[0;34m\u001b[0m\u001b[0;34m\u001b[0m\u001b[0;34m\u001b[0m\u001b[0m\n\u001b[1;32m      2\u001b[0m \u001b[0;31m#1 [sql] List the domains of news articles of reliable type and scraped at or after January 15, 2018. NOTE: Do not include duplicate domains in your answer.\u001b[0m\u001b[0;34m\u001b[0m\u001b[0;34m\u001b[0m\u001b[0;34m\u001b[0m\u001b[0m\n\u001b[0;32m----> 3\u001b[0;31m cur.execute(\"\"\"\n\u001b[0m\u001b[1;32m      4\u001b[0m \u001b[0mselect\u001b[0m \u001b[0mdistinct\u001b[0m \u001b[0mdomain_name\u001b[0m \u001b[0;32mfrom\u001b[0m \u001b[0mowns\u001b[0m\u001b[0;34m\u001b[0m\u001b[0;34m\u001b[0m\u001b[0m\n\u001b[1;32m      5\u001b[0m \u001b[0mwhere\u001b[0m \u001b[0marticle_id\u001b[0m \u001b[0;32min\u001b[0m\u001b[0;34m\u001b[0m\u001b[0;34m\u001b[0m\u001b[0m\n",
      "\u001b[0;31mNameError\u001b[0m: name 'cur' is not defined"
     ]
    }
   ],
   "source": [
    "#Milestone 2 Task 3\n",
    "#1 [sql] List the domains of news articles of reliable type and scraped at or after January 15, 2018. NOTE: Do not include duplicate domains in your answer.    \n",
    "cur.execute(\"\"\"\n",
    "select distinct domain_name from owns \n",
    "where article_id in \n",
    "(select id from article a \n",
    "where type = 'reliable' and a.scraped_at > '2018-01-24')\"\"\")\n",
    "print(cur.fetchall())\n",
    "#2 [sql] List the name(s) of the most prolific author(s) of news articles of fake type. An author is among the most prolific if it has authored as many or more fake news articles as any other author in the dataset.\n",
    "#We chose to fetch top 5 authors with most fake news articles. \n",
    "cur.execute(\"\"\"\n",
    "select author_name, count(*) from authors_of \n",
    "where article_id in \n",
    "    (select id from article \n",
    "    where type = 'fake') \n",
    "and author_name != 'nan' \n",
    "group by author_name \n",
    "order by count(*) desc limit 5 \"\"\")\n",
    "print(cur.fetchall())\n",
    "\n",
    "#3. [sql] Count the pairs of article IDs that exhibit the exact same set of meta-keywords, but only return the pairs where the set of meta-keywords is not empty. \n",
    "cur.execute(\"\"\"\n",
    "select count(*) from \n",
    "    (select * from \n",
    "        (select count(*) , * from \n",
    "            (select aa.id, bb.id from \n",
    "                (select * from article_meta_keywords where meta_keyword !='') aa \n",
    "            inner join \n",
    "                (select * from article_meta_keywords where meta_keyword !='') bb\n",
    "            on aa.meta_keyword = bb.meta_keyword  \n",
    "            where aa.id < bb.id \n",
    "            order by aa.id) keyword_match(col1, col2) \n",
    "            group by (col1, col2) \n",
    "            order by col1 asc) n_of_matches(matches_n, matches_id, b)\n",
    "\n",
    "        , \n",
    "\n",
    "            (select id, count(id) from article_meta_keywords\n",
    "            group by id \n",
    "            order by count desc) \n",
    "        n_of_metaKeywords(count_id, count_n) \n",
    "    where n_of_matches.matches_id = n_of_metaKeywords.count_id \n",
    "    and n_of_matches.matches_n= n_of_metaKeywords.count_n \n",
    "    order by matches_n desc )\n",
    " total\"\"\")\n",
    "print(cur.fetchall())\n",
    "#Bonus: get the list of id's with matching meta_keywords: \n",
    "cur.execute(\"\"\"\n",
    "select matches_n, matches_id, matched_with from \n",
    "    (select count(*) , * from \n",
    "        (select aa.id, bb.id from \n",
    "            (select * from article_meta_keywords where meta_keyword !='') aa \n",
    "            inner join \n",
    "            (select * from article_meta_keywords where meta_keyword !='') bb \n",
    "        on aa.meta_keyword = bb.meta_keyword  \n",
    "        where aa.id < bb.id order by aa.id) keyword_match(col1, col2)\n",
    "        group by (col1, col2) \n",
    "        order by col1 asc) n_of_matches(matches_n, matches_id, matched_with)\n",
    "\n",
    "        , \n",
    "\n",
    "        (select id, count(id) from article_meta_keywords\n",
    "        group by id order by count desc) \n",
    "        n_of_metaKeywords(count_id, count_n)\n",
    "\n",
    "where \n",
    "n_of_matches.matches_id = n_of_metaKeywords.count_id and\n",
    "n_of_matches.matches_n= n_of_metaKeywords.count_n\n",
    "order by matches_n desc\n",
    "\"\"\")\n",
    "print(cur.fetchall()[:30])\n",
    "\n"
   ]
  },
  {
   "cell_type": "markdown",
   "metadata": {},
   "source": [
<<<<<<< HEAD
    "#1 relational algebra\n",
    "\n",
    "reliable_domains := π{domain_name} (σ{a.type = 'reliable' and a.scraped_at > '2018-01-24' and a.id = o.article_id}(owns X article ))\n",
    "\n",
    "reliable_domains := π{domain_name} owns ⋈{a.type = 'reliable' and a.scraped_at > '2018-01-24' and a.id = o.article_id} article\n",
    "\n",
    "2# extended relational algebra\n",
    "\n",
    "reliable_authors := π{author_name} (σ{type='fake' and author_name <> 'nan'\n",
    "tau_{count(type)}((gamma_{author_name}, count(type) (reliable_authors))\n",
    "\n"
   ]
  },
  {
   "source": [
    "## Task 4 - Observations\n",
    "\n"
   ],
   "cell_type": "markdown",
   "metadata": {}
=======
    "## Task 4"
   ]
>>>>>>> 358598924963f891ae14057fe18ebd5ecd0e8d5e
  },
  {
   "cell_type": "markdown",
   "metadata": {},
   "source": []
  },
  {
   "cell_type": "code",
   "execution_count": null,
   "metadata": {},
   "outputs": [],
   "source": []
  },
  {
   "cell_type": "markdown",
   "metadata": {},
   "source": []
  },
  {
   "cell_type": "code",
   "execution_count": null,
   "metadata": {},
   "outputs": [],
   "source": []
  }
 ],
 "metadata": {
  "kernelspec": {
   "display_name": "Python 3",
   "language": "python",
   "name": "python3"
  },
  "language_info": {
   "codemirror_mode": {
    "name": "ipython",
    "version": 3
   },
   "file_extension": ".py",
   "mimetype": "text/x-python",
   "name": "python",
   "nbconvert_exporter": "python",
   "pygments_lexer": "ipython3",
   "version": "3.8.3"
  }
 },
 "nbformat": 4,
 "nbformat_minor": 4
}