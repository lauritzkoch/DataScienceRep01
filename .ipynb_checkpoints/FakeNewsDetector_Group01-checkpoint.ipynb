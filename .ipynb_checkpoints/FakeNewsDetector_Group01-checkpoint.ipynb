{
 "cells": [
  {
   "cell_type": "code",
   "execution_count": 1,
   "metadata": {},
   "outputs": [],
   "source": [
    "import pandas as pd\n",
    "import numpy as np\n",
    "import re"
   ]
  },
  {
   "cell_type": "code",
   "execution_count": 2,
   "metadata": {},
   "outputs": [
    {
     "name": "stderr",
     "output_type": "stream",
     "text": [
      "[nltk_data] Downloading package punkt to\n",
      "[nltk_data]     /Users/danielstephensen/nltk_data...\n",
      "[nltk_data]   Package punkt is already up-to-date!\n",
      "[nltk_data] Downloading package stopwords to\n",
      "[nltk_data]     /Users/danielstephensen/nltk_data...\n",
      "[nltk_data]   Package stopwords is already up-to-date!\n",
      "Since the GPL-licensed package `unidecode` is not installed, using Python's `unicodedata` package which yields worse results.\n"
     ]
    }
   ],
   "source": [
    "import nltk\n",
    "from nltk import word_tokenize\n",
    "from nltk.corpus import stopwords\n",
    "from nltk.stem import porter\n",
    "nltk.download('punkt')\n",
    "nltk.download('stopwords')\n",
    "import matplotlib.pyplot as plt\n",
    "from cleantext import clean"
   ]
  },
  {
   "cell_type": "markdown",
   "metadata": {},
   "source": [
    "## Task 1"
   ]
  },
  {
   "cell_type": "markdown",
   "metadata": {},
   "source": [
    "Group members: Angelina Näsström (nzv947), Daniel Stephensen (fbp131), Kristina Wilke (mlt790), Lauritz Koch (hdg618)"
   ]
  },
  {
   "cell_type": "markdown",
   "metadata": {},
   "source": [
    "## Task 2"
   ]
  },
  {
   "cell_type": "code",
   "execution_count": null,
   "metadata": {},
   "outputs": [],
   "source": []
  },
  {
   "cell_type": "code",
   "execution_count": 5,
   "metadata": {},
   "outputs": [
    {
     "data": {
      "text/plain": [
       "\"Never Hike Alone: A Friday the 13th Fan Film USA | 2017 | 54 min A fan tribute to Friday the 13th, Never Hike Alone follows an adventure\\n\\nNever Hike Alone: A Friday the 13th Fan Film USA | 2017 | 54 min\\n\\n\\n\\nA fan tribute to Friday the 13th, Never Hike Alone follows an adventure blogger, Kyle McLeod (Andrew Leighty), who uncovers the long lost remains of Camp Crystal Lake while on a solo backpacking trip.\\n\\nIgnoring the campfire tales from his childhood, Kyle's search turns deadly when he makes the grave mistake of crossing the path of Camp Blood’s legendary mass murderer, Jason Voorhees.\\n\\nStranded in the forest with Jason on his heels, Kyle must push his survival skills to their limits if he hopes to survive the night.\\n\\nOtherwise, he'll wind up as another lost victim of the cursed camp.\\n\\n\\n\\nDIRECTED BY\\n\\nVINCENTE DISANTI\\n\\n\\n\\nSCREENPLAY BY\\n\\nVINCENTE DISANTI and NATHAN MCLEOD\\n\\n\\n\\nBASED ON CHARACTERS CREATED BY\\n\\nSEAN CUNNINGHAM\\n\\nVICTOR MILLER\\n\\nRON KURTZ\\n\\n\\n\\nSTARRING:\\n\\nANDREW LEIGHTY as KYLE MCLEOD\\n\\nVINCENTE DISANTI as JASON VOORHEES\\n\\n\\n\\nEXECUTIVE PRODUCERS\\n\\nBARRY JAY STITCH\\n\\nCAROLYN GAIR\\n\\nSARAH DISANTI\\n\\n\\n\\nPRODUCERS\\n\\nKYLE KLEIN\\n\\nDANIEL EVANS\\n\\nMATTHEW BARRETT\\n\\n\\n\\nCO-PRODUCERS\\n\\nSTEVEN SQUILLANTE\\n\\nCHRISTOPHER THELLAS\\n\\nALEXANDER THELLAS\\n\\n\\n\\nASSOCIATE PRODUCERS\\n\\nCODY CAMERON\\n\\nCHRISTIAN ASCENCIO\\n\\nLYDIA ASCENCIO\\n\\nLYNN HOBSON\\n\\nRENE RIVAS\\n\\nMIKE WHELAN\\n\\n\\n\\nDIRECTORS OF PHOTOGRAPHY\\n\\nCHRISTOPHER THELLAS\\n\\nJ.D.\\n\\nMARTZ\\n\\n\\n\\nPRODUCTION DESIGNER\\n\\nBRITTANY PORTER\\n\\n\\n\\nSPECIAL MAKE UP EFFECTS\\n\\nKELSEY BERK\\n\\n\\n\\nWARDROBE\\n\\nSTEPHEN BOYD-MORALES\\n\\n\\n\\nSTUNTS\\n\\nJESSICA BENNETT\\n\\nBRYAN FORREST as JASON VOORHEES\\n\\nDONNY NICHOLS as KYLE MCLEOD\\n\\n\\n\\nFILM EDITING BY\\n\\nLAWRENCE GAN\\n\\nSARAH DISANTI\\n\\n\\n\\nUNIT STILLS PHOTOGRAPHY\\n\\nASHLY COVINGTON\\n\\n\\n\\nMUSIC BY\\n\\nRYAN PEREZ-DAPLE\\n\\n\\n\\n“Run Like Hell”\\n\\nWritten by: Vincente DiSanti, Jake Gonsalves, Lenny Machado\\n\\nPerformed by: Gonsalves, Machado\\n\\nRecorded at: Elm Street Studios, New Bedford, MA 2017\\n\\nAppears Courtesy of: Damn Enchiladas\\n\\n\\n\\n“Another Soul”\\n\\nWritten and Performed by: Trevor Vaughan\\n\\nAppears on: Finally Salao Mix Tape\\n\\nRecorded at: The Colosseum, New Bedford, MA 2012\\n\\nAppears Courtesy of: Trevor Vaughan & Mass Glory Records\\n\\n\\n\\n\\n\\nfor additional cast and crew visit: www.imdb.com/title/tt5719786/\\n\\n\\n\\nwww.wompstompfilms.com\\n\\n\\n\\nDISCLAIMER\\n\\n\\n\\nTHIS PRODUCTION IS THE EFFORT OF WOMP STOMP FILMS, LLC AND ITS VOLUNTEER ASSOCIATES.\\n\\nNEVER HIKE ALONE IS A PRODUCT OF FAN FICTION AND IN NO WAY AFFILIATED WITH, OR A REPRESENTATIVE OF THE VIACOM/PARAMOUNT FILM COMPANY, WARNER BROTHERS, NEW LINE CINEMA, HORROR INC, THE FRIDAY THE 13TH FILM PROPERTY, OR ITS CHARACTERS.\\n\\n\\n\\n\\n\\nTHIS PROJECT WAS CREATED BY FANS, FOR FANS, TO SHOW APPRECIATION FOR THE FRIDAY THE 13th FRANCHISE.\\n\\nAS OF FRIDAY THE 13th OCTOBER 2017, THIS PROJECT WILL BE MADE FREE AND AVAILABLE TO ALL WHO CARE TO WATCH IT.\\n\\nNO PROFIT SHALL BE MADE OFF ITS VIEWING.\\n\\n\\n\\n\\n\\nTHANK YOU TO ANY AND ALL WHO ASSISTED IN BRINGING THE PROJECT TO LIFE.\\n\\nWOMP STOMP FILMS IS FOREVER GRATEFUL FOR YOUR TIME AND DEDICATION TO THE PROJECT.\\n\\n\\n\\nTHANK YOU FOR WATCHING.\""
      ]
     },
     "execution_count": 5,
     "metadata": {},
     "output_type": "execute_result"
    }
   ],
   "source": [
    "data = pd.read_csv('news_sample.csv')\n",
    "data[\"content\"][2]"
   ]
  },
  {
   "cell_type": "code",
   "execution_count": null,
   "metadata": {},
   "outputs": [],
   "source": []
  },
  {
   "cell_type": "code",
   "execution_count": null,
   "metadata": {},
   "outputs": [],
   "source": []
  },
  {
   "cell_type": "code",
   "execution_count": null,
   "metadata": {},
   "outputs": [],
   "source": []
  },
  {
   "cell_type": "code",
   "execution_count": null,
   "metadata": {},
   "outputs": [],
   "source": []
  },
  {
   "cell_type": "code",
   "execution_count": null,
   "metadata": {},
   "outputs": [],
   "source": []
  },
  {
   "cell_type": "code",
   "execution_count": null,
   "metadata": {},
   "outputs": [],
   "source": []
  }
 ],
 "metadata": {
  "kernelspec": {
   "display_name": "Python 3",
   "language": "python",
   "name": "python3"
  },
  "language_info": {
   "codemirror_mode": {
    "name": "ipython",
    "version": 3
   },
   "file_extension": ".py",
   "mimetype": "text/x-python",
   "name": "python",
   "nbconvert_exporter": "python",
   "pygments_lexer": "ipython3",
   "version": "3.8.3"
  }
 },
 "nbformat": 4,
 "nbformat_minor": 4
}
